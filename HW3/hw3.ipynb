{
 "cells": [
  {
   "cell_type": "markdown",
   "id": "e91403b1",
   "metadata": {},
   "source": [
    "# Collaborators: \n",
    "none"
   ]
  },
  {
   "cell_type": "markdown",
   "id": "df5a7bcf",
   "metadata": {},
   "source": [
    "# Question 1"
   ]
  },
  {
   "cell_type": "markdown",
   "id": "e1b4d716",
   "metadata": {},
   "source": [
    "(a) Find out how to sample t elements from a pandas dataframe of k ≥ t elements without\n",
    "replacement (i.e., a name cannot appear twice on the resulting list). Give an example.\n",
    "Hint: You can use random.sample or numpy.random.choice. You can also write a\n",
    "function for this yourself from scratch.\n"
   ]
  },
  {
   "cell_type": "code",
   "execution_count": 36,
   "id": "518e3398",
   "metadata": {},
   "outputs": [
    {
     "data": {
      "text/plain": [
       "[3, 2]"
      ]
     },
     "execution_count": 36,
     "metadata": {},
     "output_type": "execute_result"
    }
   ],
   "source": [
    "from random import sample\n",
    "list1 = [1,2,3,4]\n",
    "sample(list1, 2)"
   ]
  },
  {
   "cell_type": "markdown",
   "id": "08c8c9c6",
   "metadata": {},
   "source": [
    "(b) Create an arbitrary list of 18 different names of cars. (It can be as simple as “A”, “B”, . .\n",
    ". , “R”, but you are invited to be more creative. It could, for instance, start from “Fiat\n",
    "500” and “Ferrari Testarossa”.) Then create two data frames, with 10 rows each, as\n",
    "follows.\n",
    ">• The first one—say, df1—should have two labeled columns: Name and MPG (i.e.,\n",
    "miles per gallon). The names should be selected at random from the list of names\n",
    "without replacement. The values in the other column should be independent\n",
    "random real numbers from 5 to 50.\n",
    "\n",
    ">• The second one—say, df2—should have two labeled columns: Name and\n",
    "SecondsTo60 (i.e., time needed to reach 60 mph). Names should be selected in\n",
    "the same way as in df1, but independently of the selection in df1. The values in\n",
    "the other column should be independent random real numbers from 1 to 20.\n"
   ]
  },
  {
   "cell_type": "code",
   "execution_count": 43,
   "id": "ee82f2ca",
   "metadata": {},
   "outputs": [
    {
     "name": "stdout",
     "output_type": "stream",
     "text": [
      "  Name  MPG\n",
      "0    C   36\n",
      "1    J   27\n",
      "2    A   26\n",
      "3    N   45\n",
      "4    L   17\n",
      "5    M   40\n",
      "6    B   22\n",
      "7    R   26\n",
      "8    I    7\n",
      "9    D    8\n",
      "  Name  SecondsTo60\n",
      "0    L            5\n",
      "1    I           12\n",
      "2    M            4\n",
      "3    H            8\n",
      "4    O            4\n",
      "5    J            3\n",
      "6    D           10\n",
      "7    C            1\n",
      "8    B            7\n",
      "9    R           19\n"
     ]
    }
   ],
   "source": [
    "import pandas as pd\n",
    "import numpy as np\n",
    "list2 = [\"A\",\"B\",\"C\",\"D\",\"E\",\"F\",\"G\",\"H\",\"I\",\"J\",\"K\",\"L\",\"M\",\"N\",\"O\",\"P\",\"Q\",\"R\"]\n",
    "MPG = np.random.randint(5,50,size=(10))\n",
    "df1 = pd.DataFrame({'Name': sample(list2,10), 'MPG': MPG})\n",
    "print(df1)\n",
    "\n",
    "\n",
    "seconds = np.random.randint(1,20,size=(10))\n",
    "df2 = pd.DataFrame({'Name': sample(list2,10), 'SecondsTo60': seconds})\n",
    "print(df2)\n"
   ]
  },
  {
   "cell_type": "markdown",
   "id": "7f1960c4",
   "metadata": {},
   "source": [
    "(c) Combine df1 and df2 to create a new data frame, df, with three columns: Name, MPG,\n",
    "and SecondsTo60. The resulting data frame should have at most one row for each car.\n",
    "A car should appear in df if and only if it appears in at least one of df1 and df2. If the\n",
    "value of MPG or SecondsTo60 for a given car appears in df1 or df2, respectively, then\n",
    "it should be included in the new data frame. Otherwise, use NaN.\n"
   ]
  },
  {
   "cell_type": "code",
   "execution_count": 44,
   "id": "ba6a9158",
   "metadata": {},
   "outputs": [
    {
     "data": {
      "text/html": [
       "<div>\n",
       "<style scoped>\n",
       "    .dataframe tbody tr th:only-of-type {\n",
       "        vertical-align: middle;\n",
       "    }\n",
       "\n",
       "    .dataframe tbody tr th {\n",
       "        vertical-align: top;\n",
       "    }\n",
       "\n",
       "    .dataframe thead th {\n",
       "        text-align: right;\n",
       "    }\n",
       "</style>\n",
       "<table border=\"1\" class=\"dataframe\">\n",
       "  <thead>\n",
       "    <tr style=\"text-align: right;\">\n",
       "      <th></th>\n",
       "      <th>Name</th>\n",
       "      <th>MPG</th>\n",
       "      <th>SecondsTo60</th>\n",
       "    </tr>\n",
       "  </thead>\n",
       "  <tbody>\n",
       "    <tr>\n",
       "      <th>0</th>\n",
       "      <td>C</td>\n",
       "      <td>36.0</td>\n",
       "      <td>1.0</td>\n",
       "    </tr>\n",
       "    <tr>\n",
       "      <th>1</th>\n",
       "      <td>J</td>\n",
       "      <td>27.0</td>\n",
       "      <td>3.0</td>\n",
       "    </tr>\n",
       "    <tr>\n",
       "      <th>2</th>\n",
       "      <td>A</td>\n",
       "      <td>26.0</td>\n",
       "      <td>NaN</td>\n",
       "    </tr>\n",
       "    <tr>\n",
       "      <th>3</th>\n",
       "      <td>N</td>\n",
       "      <td>45.0</td>\n",
       "      <td>NaN</td>\n",
       "    </tr>\n",
       "    <tr>\n",
       "      <th>4</th>\n",
       "      <td>L</td>\n",
       "      <td>17.0</td>\n",
       "      <td>5.0</td>\n",
       "    </tr>\n",
       "    <tr>\n",
       "      <th>5</th>\n",
       "      <td>M</td>\n",
       "      <td>40.0</td>\n",
       "      <td>4.0</td>\n",
       "    </tr>\n",
       "    <tr>\n",
       "      <th>6</th>\n",
       "      <td>B</td>\n",
       "      <td>22.0</td>\n",
       "      <td>7.0</td>\n",
       "    </tr>\n",
       "    <tr>\n",
       "      <th>7</th>\n",
       "      <td>R</td>\n",
       "      <td>26.0</td>\n",
       "      <td>19.0</td>\n",
       "    </tr>\n",
       "    <tr>\n",
       "      <th>8</th>\n",
       "      <td>I</td>\n",
       "      <td>7.0</td>\n",
       "      <td>12.0</td>\n",
       "    </tr>\n",
       "    <tr>\n",
       "      <th>9</th>\n",
       "      <td>D</td>\n",
       "      <td>8.0</td>\n",
       "      <td>10.0</td>\n",
       "    </tr>\n",
       "    <tr>\n",
       "      <th>10</th>\n",
       "      <td>H</td>\n",
       "      <td>NaN</td>\n",
       "      <td>8.0</td>\n",
       "    </tr>\n",
       "    <tr>\n",
       "      <th>11</th>\n",
       "      <td>O</td>\n",
       "      <td>NaN</td>\n",
       "      <td>4.0</td>\n",
       "    </tr>\n",
       "  </tbody>\n",
       "</table>\n",
       "</div>"
      ],
      "text/plain": [
       "   Name   MPG  SecondsTo60\n",
       "0     C  36.0          1.0\n",
       "1     J  27.0          3.0\n",
       "2     A  26.0          NaN\n",
       "3     N  45.0          NaN\n",
       "4     L  17.0          5.0\n",
       "5     M  40.0          4.0\n",
       "6     B  22.0          7.0\n",
       "7     R  26.0         19.0\n",
       "8     I   7.0         12.0\n",
       "9     D   8.0         10.0\n",
       "10    H   NaN          8.0\n",
       "11    O   NaN          4.0"
      ]
     },
     "execution_count": 44,
     "metadata": {},
     "output_type": "execute_result"
    }
   ],
   "source": [
    "df = pd.merge(df1, df2, how = \"outer\",on=[\"Name\"])\n",
    "df"
   ]
  },
  {
   "cell_type": "markdown",
   "id": "88a70c8a",
   "metadata": {},
   "source": [
    "(d) Fix all occurrences of NaN in df. First, replace all NaN‘s in the MPG column with the\n",
    "mean of values in this column for all cars. Second, replace all NaN‘s in the\n",
    "SecondsTo60 column by the maximum of values in this column for all cars.\n"
   ]
  },
  {
   "cell_type": "code",
   "execution_count": 45,
   "id": "447a1aa7",
   "metadata": {},
   "outputs": [
    {
     "name": "stderr",
     "output_type": "stream",
     "text": [
      "C:\\Users\\Emily\\AppData\\Local\\Temp\\ipykernel_26392\\1185496620.py:1: FutureWarning: Dropping of nuisance columns in DataFrame reductions (with 'numeric_only=None') is deprecated; in a future version this will raise TypeError.  Select only valid columns before calling the reduction.\n",
      "  values = {\"MPG\": df.mean()[0], \"SecondsTo60\": df.max()[2]}\n"
     ]
    },
    {
     "data": {
      "text/html": [
       "<div>\n",
       "<style scoped>\n",
       "    .dataframe tbody tr th:only-of-type {\n",
       "        vertical-align: middle;\n",
       "    }\n",
       "\n",
       "    .dataframe tbody tr th {\n",
       "        vertical-align: top;\n",
       "    }\n",
       "\n",
       "    .dataframe thead th {\n",
       "        text-align: right;\n",
       "    }\n",
       "</style>\n",
       "<table border=\"1\" class=\"dataframe\">\n",
       "  <thead>\n",
       "    <tr style=\"text-align: right;\">\n",
       "      <th></th>\n",
       "      <th>Name</th>\n",
       "      <th>MPG</th>\n",
       "      <th>SecondsTo60</th>\n",
       "    </tr>\n",
       "  </thead>\n",
       "  <tbody>\n",
       "    <tr>\n",
       "      <th>0</th>\n",
       "      <td>C</td>\n",
       "      <td>36.0</td>\n",
       "      <td>1.0</td>\n",
       "    </tr>\n",
       "    <tr>\n",
       "      <th>1</th>\n",
       "      <td>J</td>\n",
       "      <td>27.0</td>\n",
       "      <td>3.0</td>\n",
       "    </tr>\n",
       "    <tr>\n",
       "      <th>2</th>\n",
       "      <td>A</td>\n",
       "      <td>26.0</td>\n",
       "      <td>19.0</td>\n",
       "    </tr>\n",
       "    <tr>\n",
       "      <th>3</th>\n",
       "      <td>N</td>\n",
       "      <td>45.0</td>\n",
       "      <td>19.0</td>\n",
       "    </tr>\n",
       "    <tr>\n",
       "      <th>4</th>\n",
       "      <td>L</td>\n",
       "      <td>17.0</td>\n",
       "      <td>5.0</td>\n",
       "    </tr>\n",
       "    <tr>\n",
       "      <th>5</th>\n",
       "      <td>M</td>\n",
       "      <td>40.0</td>\n",
       "      <td>4.0</td>\n",
       "    </tr>\n",
       "    <tr>\n",
       "      <th>6</th>\n",
       "      <td>B</td>\n",
       "      <td>22.0</td>\n",
       "      <td>7.0</td>\n",
       "    </tr>\n",
       "    <tr>\n",
       "      <th>7</th>\n",
       "      <td>R</td>\n",
       "      <td>26.0</td>\n",
       "      <td>19.0</td>\n",
       "    </tr>\n",
       "    <tr>\n",
       "      <th>8</th>\n",
       "      <td>I</td>\n",
       "      <td>7.0</td>\n",
       "      <td>12.0</td>\n",
       "    </tr>\n",
       "    <tr>\n",
       "      <th>9</th>\n",
       "      <td>D</td>\n",
       "      <td>8.0</td>\n",
       "      <td>10.0</td>\n",
       "    </tr>\n",
       "    <tr>\n",
       "      <th>10</th>\n",
       "      <td>H</td>\n",
       "      <td>25.4</td>\n",
       "      <td>8.0</td>\n",
       "    </tr>\n",
       "    <tr>\n",
       "      <th>11</th>\n",
       "      <td>O</td>\n",
       "      <td>25.4</td>\n",
       "      <td>4.0</td>\n",
       "    </tr>\n",
       "  </tbody>\n",
       "</table>\n",
       "</div>"
      ],
      "text/plain": [
       "   Name   MPG  SecondsTo60\n",
       "0     C  36.0          1.0\n",
       "1     J  27.0          3.0\n",
       "2     A  26.0         19.0\n",
       "3     N  45.0         19.0\n",
       "4     L  17.0          5.0\n",
       "5     M  40.0          4.0\n",
       "6     B  22.0          7.0\n",
       "7     R  26.0         19.0\n",
       "8     I   7.0         12.0\n",
       "9     D   8.0         10.0\n",
       "10    H  25.4          8.0\n",
       "11    O  25.4          4.0"
      ]
     },
     "execution_count": 45,
     "metadata": {},
     "output_type": "execute_result"
    }
   ],
   "source": [
    "values = {\"MPG\": df.mean()[0], \"SecondsTo60\": df.max()[2]}\n",
    "df = df.fillna(value=values)\n",
    "df"
   ]
  },
  {
   "cell_type": "markdown",
   "id": "8ecd8e82",
   "metadata": {},
   "source": [
    "(e) Add “Awesome ” as a prefix to the name of each car in df.\n"
   ]
  },
  {
   "cell_type": "code",
   "execution_count": 46,
   "id": "ada2a60e",
   "metadata": {},
   "outputs": [
    {
     "data": {
      "text/html": [
       "<div>\n",
       "<style scoped>\n",
       "    .dataframe tbody tr th:only-of-type {\n",
       "        vertical-align: middle;\n",
       "    }\n",
       "\n",
       "    .dataframe tbody tr th {\n",
       "        vertical-align: top;\n",
       "    }\n",
       "\n",
       "    .dataframe thead th {\n",
       "        text-align: right;\n",
       "    }\n",
       "</style>\n",
       "<table border=\"1\" class=\"dataframe\">\n",
       "  <thead>\n",
       "    <tr style=\"text-align: right;\">\n",
       "      <th></th>\n",
       "      <th>Name</th>\n",
       "      <th>MPG</th>\n",
       "      <th>SecondsTo60</th>\n",
       "    </tr>\n",
       "  </thead>\n",
       "  <tbody>\n",
       "    <tr>\n",
       "      <th>0</th>\n",
       "      <td>AwesomeC</td>\n",
       "      <td>36.0</td>\n",
       "      <td>1.0</td>\n",
       "    </tr>\n",
       "    <tr>\n",
       "      <th>1</th>\n",
       "      <td>AwesomeJ</td>\n",
       "      <td>27.0</td>\n",
       "      <td>3.0</td>\n",
       "    </tr>\n",
       "    <tr>\n",
       "      <th>2</th>\n",
       "      <td>AwesomeA</td>\n",
       "      <td>26.0</td>\n",
       "      <td>19.0</td>\n",
       "    </tr>\n",
       "    <tr>\n",
       "      <th>3</th>\n",
       "      <td>AwesomeN</td>\n",
       "      <td>45.0</td>\n",
       "      <td>19.0</td>\n",
       "    </tr>\n",
       "    <tr>\n",
       "      <th>4</th>\n",
       "      <td>AwesomeL</td>\n",
       "      <td>17.0</td>\n",
       "      <td>5.0</td>\n",
       "    </tr>\n",
       "    <tr>\n",
       "      <th>5</th>\n",
       "      <td>AwesomeM</td>\n",
       "      <td>40.0</td>\n",
       "      <td>4.0</td>\n",
       "    </tr>\n",
       "    <tr>\n",
       "      <th>6</th>\n",
       "      <td>AwesomeB</td>\n",
       "      <td>22.0</td>\n",
       "      <td>7.0</td>\n",
       "    </tr>\n",
       "    <tr>\n",
       "      <th>7</th>\n",
       "      <td>AwesomeR</td>\n",
       "      <td>26.0</td>\n",
       "      <td>19.0</td>\n",
       "    </tr>\n",
       "    <tr>\n",
       "      <th>8</th>\n",
       "      <td>AwesomeI</td>\n",
       "      <td>7.0</td>\n",
       "      <td>12.0</td>\n",
       "    </tr>\n",
       "    <tr>\n",
       "      <th>9</th>\n",
       "      <td>AwesomeD</td>\n",
       "      <td>8.0</td>\n",
       "      <td>10.0</td>\n",
       "    </tr>\n",
       "    <tr>\n",
       "      <th>10</th>\n",
       "      <td>AwesomeH</td>\n",
       "      <td>25.4</td>\n",
       "      <td>8.0</td>\n",
       "    </tr>\n",
       "    <tr>\n",
       "      <th>11</th>\n",
       "      <td>AwesomeO</td>\n",
       "      <td>25.4</td>\n",
       "      <td>4.0</td>\n",
       "    </tr>\n",
       "  </tbody>\n",
       "</table>\n",
       "</div>"
      ],
      "text/plain": [
       "        Name   MPG  SecondsTo60\n",
       "0   AwesomeC  36.0          1.0\n",
       "1   AwesomeJ  27.0          3.0\n",
       "2   AwesomeA  26.0         19.0\n",
       "3   AwesomeN  45.0         19.0\n",
       "4   AwesomeL  17.0          5.0\n",
       "5   AwesomeM  40.0          4.0\n",
       "6   AwesomeB  22.0          7.0\n",
       "7   AwesomeR  26.0         19.0\n",
       "8   AwesomeI   7.0         12.0\n",
       "9   AwesomeD   8.0         10.0\n",
       "10  AwesomeH  25.4          8.0\n",
       "11  AwesomeO  25.4          4.0"
      ]
     },
     "execution_count": 46,
     "metadata": {},
     "output_type": "execute_result"
    }
   ],
   "source": [
    "df[\"Name\"] = df['Name'].apply(lambda name: \"Awesome\" + name)\n",
    "df"
   ]
  },
  {
   "cell_type": "markdown",
   "id": "8faa2626",
   "metadata": {},
   "source": [
    "(f) Create a new data frame, df_eco, from df by selecting rows for which MPG is strictly\n",
    "greater than the median of values for all cars."
   ]
  },
  {
   "cell_type": "code",
   "execution_count": 47,
   "id": "aef198a6",
   "metadata": {},
   "outputs": [
    {
     "name": "stderr",
     "output_type": "stream",
     "text": [
      "C:\\Users\\Emily\\AppData\\Local\\Temp\\ipykernel_26392\\1547504243.py:1: FutureWarning: Dropping of nuisance columns in DataFrame reductions (with 'numeric_only=None') is deprecated; in a future version this will raise TypeError.  Select only valid columns before calling the reduction.\n",
      "  df_eco = df[df['MPG'] > df.median()[0]]\n"
     ]
    },
    {
     "data": {
      "text/html": [
       "<div>\n",
       "<style scoped>\n",
       "    .dataframe tbody tr th:only-of-type {\n",
       "        vertical-align: middle;\n",
       "    }\n",
       "\n",
       "    .dataframe tbody tr th {\n",
       "        vertical-align: top;\n",
       "    }\n",
       "\n",
       "    .dataframe thead th {\n",
       "        text-align: right;\n",
       "    }\n",
       "</style>\n",
       "<table border=\"1\" class=\"dataframe\">\n",
       "  <thead>\n",
       "    <tr style=\"text-align: right;\">\n",
       "      <th></th>\n",
       "      <th>Name</th>\n",
       "      <th>MPG</th>\n",
       "      <th>SecondsTo60</th>\n",
       "    </tr>\n",
       "  </thead>\n",
       "  <tbody>\n",
       "    <tr>\n",
       "      <th>0</th>\n",
       "      <td>AwesomeC</td>\n",
       "      <td>36.0</td>\n",
       "      <td>1.0</td>\n",
       "    </tr>\n",
       "    <tr>\n",
       "      <th>1</th>\n",
       "      <td>AwesomeJ</td>\n",
       "      <td>27.0</td>\n",
       "      <td>3.0</td>\n",
       "    </tr>\n",
       "    <tr>\n",
       "      <th>2</th>\n",
       "      <td>AwesomeA</td>\n",
       "      <td>26.0</td>\n",
       "      <td>19.0</td>\n",
       "    </tr>\n",
       "    <tr>\n",
       "      <th>3</th>\n",
       "      <td>AwesomeN</td>\n",
       "      <td>45.0</td>\n",
       "      <td>19.0</td>\n",
       "    </tr>\n",
       "    <tr>\n",
       "      <th>5</th>\n",
       "      <td>AwesomeM</td>\n",
       "      <td>40.0</td>\n",
       "      <td>4.0</td>\n",
       "    </tr>\n",
       "    <tr>\n",
       "      <th>7</th>\n",
       "      <td>AwesomeR</td>\n",
       "      <td>26.0</td>\n",
       "      <td>19.0</td>\n",
       "    </tr>\n",
       "  </tbody>\n",
       "</table>\n",
       "</div>"
      ],
      "text/plain": [
       "       Name   MPG  SecondsTo60\n",
       "0  AwesomeC  36.0          1.0\n",
       "1  AwesomeJ  27.0          3.0\n",
       "2  AwesomeA  26.0         19.0\n",
       "3  AwesomeN  45.0         19.0\n",
       "5  AwesomeM  40.0          4.0\n",
       "7  AwesomeR  26.0         19.0"
      ]
     },
     "execution_count": 47,
     "metadata": {},
     "output_type": "execute_result"
    }
   ],
   "source": [
    "df_eco = df[df['MPG'] > df.median()[0]]\n",
    "df_eco"
   ]
  },
  {
   "cell_type": "markdown",
   "id": "8a5e55c4",
   "metadata": {},
   "source": [
    "# Question 2"
   ]
  },
  {
   "cell_type": "markdown",
   "id": "42ac136d",
   "metadata": {},
   "source": [
    "## Creating the files"
   ]
  },
  {
   "cell_type": "code",
   "execution_count": 14,
   "id": "f23a8a06",
   "metadata": {},
   "outputs": [],
   "source": [
    "import csv\n",
    "# data rows as dictionary objects \n",
    "ingredients ={'Yeast': 57.5, 'Flour': 112.5, 'Sugar': 245}\n",
    "\n",
    "# field names \n",
    "fields = ['Yeast', 'Flour', 'Sugar'] \n",
    "\n",
    "with open('ingredients.csv', 'w', newline='') as file: \n",
    "    writer = csv.DictWriter(file, fieldnames = fields)\n",
    "    writer.writeheader() \n",
    "    writer.writerow(ingredients)\n",
    "\n",
    "file.close()"
   ]
  },
  {
   "cell_type": "code",
   "execution_count": 16,
   "id": "2cd0062a",
   "metadata": {},
   "outputs": [
    {
     "name": "stdout",
     "output_type": "stream",
     "text": [
      "[[4.16 2.54 1.47 2.79 1.64]\n",
      " [6.89 3.48 2.17 2.04 0.75]\n",
      " [5.43 4.33 1.46 1.68 2.26]\n",
      " [2.46 4.23 1.64 0.87 2.91]\n",
      " [3.33 6.36 2.57 2.03 1.38]\n",
      " [2.24 2.73 2.88 2.04 1.9 ]\n",
      " [3.9  4.08 2.   2.34 0.73]\n",
      " [2.75 3.77 1.43 1.5  0.66]\n",
      " [2.4  3.28 1.06 1.02 1.95]\n",
      " [4.51 2.41 2.47 1.57 1.35]]\n"
     ]
    }
   ],
   "source": [
    "import numpy as np \n",
    "ingredients = np.round(np.random.uniform(0.5, 3, (10,3)),2)\n",
    "price = np.round(np.random.uniform(2, 7, (10,1)),2)\n",
    "name = np.empty((10,1))\n",
    "values = np.concatenate((name, price, ingredients), axis=1)\n",
    "print(values)\n",
    "np.savetxt('pastries.csv',  values, delimiter=',',header = 'Name,Price,Yeast,Flour,Sugar')"
   ]
  },
  {
   "cell_type": "markdown",
   "id": "9dfefe9f",
   "metadata": {},
   "source": [
    "Add the name of pastries by hand "
   ]
  },
  {
   "cell_type": "markdown",
   "id": "d8bbea69",
   "metadata": {},
   "source": [
    "## Start Approaching to the Problem"
   ]
  },
  {
   "cell_type": "code",
   "execution_count": 114,
   "id": "0ebcdbb4",
   "metadata": {},
   "outputs": [
    {
     "name": "stdout",
     "output_type": "stream",
     "text": [
      "   Yeast  Flour  Sugar\n",
      "0   57.5  112.5    245\n"
     ]
    }
   ],
   "source": [
    "import pandas as pd\n",
    "filename1 = 'ingredients.csv'\n",
    "data1 = pd.read_csv(filename1, sep=',')\n",
    "print(data1)"
   ]
  },
  {
   "cell_type": "code",
   "execution_count": 115,
   "id": "156031e8",
   "metadata": {},
   "outputs": [
    {
     "name": "stdout",
     "output_type": "stream",
     "text": [
      "             Name  Price  Yeast  Flour  Sugar\n",
      "0          Cookie   2.54   1.47   2.79   1.64\n",
      "1  GingerBreadMan   3.48   2.17   2.04   0.75\n",
      "2            Cake   4.33   1.46   1.68   2.26\n",
      "3      CheeseCake   4.23   1.64   0.87   2.91\n",
      "4           Bread   6.36   2.57   2.03   1.38\n",
      "5        ApplePie   2.73   2.88   2.04   1.90\n",
      "6       Croissant   4.08   2.00   2.34   0.73\n",
      "7           Donut   3.77   1.43   1.50   0.66\n",
      "8           Bagel   3.28   1.06   1.02   1.95\n",
      "9         Cupcake   2.41   2.47   1.57   1.35\n"
     ]
    }
   ],
   "source": [
    "filename2 = 'pastries.csv'\n",
    "data2 = pd.read_csv(filename2, sep=',')\n",
    "print(data2)"
   ]
  },
  {
   "cell_type": "markdown",
   "id": "b1497bb4",
   "metadata": {},
   "source": [
    "### Our Goal For This Question\n",
    "\n",
    "* variables: x1,x2,x3,x4,...,x10\n",
    "> where x's are the numbers of each pastry\n",
    "\n",
    "* linear constraints:\n",
    "  $$x \\ge 0$$\n",
    "  $$\\sum_{i=1}^{10} y_ix_i\\le57.5$$\n",
    "  $$\\sum_{i=1}^{10} f_ix_i\\le112.5$$\n",
    "  $$\\sum_{i=1}^{10} s_ix_i\\le245$$\n",
    "\n",
    "* **Goal:** maximize $\\sum_{i=1}^{10} p_ix_i$\n",
    "> Since I will use scipy to do optimization and it only minimizes functions, I convert my goal into: minimize $\\sum_{i=1}^{10} -p_ix_i$ \n"
   ]
  },
  {
   "cell_type": "code",
   "execution_count": 150,
   "id": "7b369e2e",
   "metadata": {},
   "outputs": [],
   "source": [
    "from scipy.optimize import linprog\n",
    "import numpy as np \n",
    "# Set up the coefficients for the function we want to minimize\n",
    "c = np.asarray(-data2['Price'])"
   ]
  },
  {
   "cell_type": "code",
   "execution_count": 151,
   "id": "74bb3261",
   "metadata": {},
   "outputs": [
    {
     "data": {
      "text/plain": [
       "[[1.47, 2.17, 1.46, 1.64, 2.57, 2.88, 2.0, 1.43, 1.06, 2.47],\n",
       " [2.79, 2.04, 1.68, 0.87, 2.03, 2.04, 2.34, 1.5, 1.02, 1.57],\n",
       " [1.64, 0.75, 2.26, 2.91, 1.38, 1.9, 0.73, 0.66, 1.95, 1.35]]"
      ]
     },
     "execution_count": 151,
     "metadata": {},
     "output_type": "execute_result"
    }
   ],
   "source": [
    "# Set up the A_ub, which contains the coefficients of the left hand side of inequations \n",
    "y = []\n",
    "f = []\n",
    "s = []\n",
    "for val in data2['Yeast']:\n",
    "    y.append(val)   \n",
    "for val in data2['Flour']:\n",
    "    f.append(val)\n",
    "for val in data2['Sugar']:\n",
    "    s.append(val)\n",
    "A_ub = [y,f,s]\n",
    "A_ub"
   ]
  },
  {
   "cell_type": "code",
   "execution_count": 152,
   "id": "42993a48",
   "metadata": {},
   "outputs": [
    {
     "data": {
      "text/plain": [
       "[57.5, 112.5, 245.0]"
      ]
     },
     "execution_count": 152,
     "metadata": {},
     "output_type": "execute_result"
    }
   ],
   "source": [
    "# Set up the b_ub, which contains the right hand side of inequations \n",
    "b_ub = [data1.iloc[0][0], data1.iloc[0][1], data1.iloc[0][2]]\n",
    "b_ub"
   ]
  },
  {
   "cell_type": "code",
   "execution_count": 173,
   "id": "0a54583a",
   "metadata": {},
   "outputs": [
    {
     "data": {
      "text/plain": [
       "[(0, None),\n",
       " (0, None),\n",
       " (0, None),\n",
       " (0, None),\n",
       " (0, None),\n",
       " (0, None),\n",
       " (0, None),\n",
       " (0, None),\n",
       " (0, None),\n",
       " (0, None)]"
      ]
     },
     "execution_count": 173,
     "metadata": {},
     "output_type": "execute_result"
    }
   ],
   "source": [
    "# Set up the boundaries \n",
    "bounds = [(0,None) for i in range(10)]\n",
    "bounds"
   ]
  },
  {
   "cell_type": "code",
   "execution_count": 178,
   "id": "4805b9db",
   "metadata": {},
   "outputs": [
    {
     "name": "stdout",
     "output_type": "stream",
     "text": [
      "status = 0 iters= 1 negative profit= -177.92452830188677 \n",
      "x=\n",
      " [ 0.          0.          0.          0.          0.          0.\n",
      "  0.          0.         54.24528302  0.        ]\n"
     ]
    }
   ],
   "source": [
    "# Optimization \n",
    "opt = linprog(c, A_ub=A_ub, b_ub=b_ub, bounds=bounds, method=\"highs\")\n",
    "print(\"status =\",opt.status, \"iters=\", opt.nit, \"negative profit=\", opt.fun, \"\\nx=\\n\", opt.x)\n",
    "max_profit = -opt.fun\n"
   ]
  },
  {
   "cell_type": "code",
   "execution_count": 180,
   "id": "7f1a9d79",
   "metadata": {},
   "outputs": [
    {
     "name": "stdout",
     "output_type": "stream",
     "text": [
      "The max profit is 177.92452830188677 and can be achieved by producing\n",
      "Cookie : 0.0 pieces\n",
      "GingerBreadMan : 0.0 pieces\n",
      "Cake : 0.0 pieces\n",
      "CheeseCake : 0.0 pieces\n",
      "Bread : 0.0 pieces\n",
      "ApplePie : 0.0 pieces\n",
      "Croissant : 0.0 pieces\n",
      "Donut : 0.0 pieces\n",
      "Bagel : 54.24528301886792 pieces\n",
      "Cupcake : 0.0 pieces\n"
     ]
    }
   ],
   "source": [
    "# Demonstrade the results \n",
    "print(\"The max profit is\", max_profit, \"and can be achieved by producing\")\n",
    "for i in range(10): \n",
    "    print(data2['Name'][i], \":\", opt.x[i] , \"pieces\")"
   ]
  },
  {
   "cell_type": "markdown",
   "id": "11f598c2",
   "metadata": {},
   "source": [
    "## Summary \n"
   ]
  },
  {
   "cell_type": "markdown",
   "id": "0db01b8d",
   "metadata": {},
   "source": [
    "When solving the problem, I fiirst expressed the dependent variable (i.e. the total profit we make) as a function of the independent variables (i.e. the number of each pastry); and our goal for this problem is to find out the values of independent variables that maximize the value of this dependent vairable. Then, I listed out all the constraints. When everything needed to consider/achieve is clear, I chose the `scipy.optimize.linprog` to solve this problem; and since this algorithm only minimizes functions, I convert my goal of this optimization process from maximizing the function into minimizing the negative of the function. When applying the algorithm, I pluged in the coefitients of our function and the informations of the constraints. Lastly, I negatived the value of the optimized function to get the maximum total profit. "
   ]
  },
  {
   "cell_type": "markdown",
   "id": "c682dd0e",
   "metadata": {},
   "source": [
    "# Question 3 "
   ]
  },
  {
   "cell_type": "markdown",
   "id": "dc15f308",
   "metadata": {},
   "source": [
    "I've spent about 8 hours on this HW. "
   ]
  },
  {
   "cell_type": "markdown",
   "id": "47e90488",
   "metadata": {},
   "source": [
    "# Resources: \n",
    "Lecture Note_08"
   ]
  },
  {
   "cell_type": "code",
   "execution_count": null,
   "id": "2c23b82e",
   "metadata": {},
   "outputs": [],
   "source": []
  },
  {
   "cell_type": "markdown",
   "id": "5aafc9d8",
   "metadata": {},
   "source": []
  },
  {
   "cell_type": "code",
   "execution_count": null,
   "id": "17e9cfa4",
   "metadata": {},
   "outputs": [],
   "source": []
  },
  {
   "cell_type": "code",
   "execution_count": null,
   "id": "d0d398e4",
   "metadata": {},
   "outputs": [],
   "source": []
  },
  {
   "cell_type": "code",
   "execution_count": null,
   "id": "6b74f430",
   "metadata": {},
   "outputs": [],
   "source": []
  }
 ],
 "metadata": {
  "kernelspec": {
   "display_name": "Python 3 (ipykernel)",
   "language": "python",
   "name": "python3"
  },
  "language_info": {
   "codemirror_mode": {
    "name": "ipython",
    "version": 3
   },
   "file_extension": ".py",
   "mimetype": "text/x-python",
   "name": "python",
   "nbconvert_exporter": "python",
   "pygments_lexer": "ipython3",
   "version": "3.9.12"
  }
 },
 "nbformat": 4,
 "nbformat_minor": 5
}
